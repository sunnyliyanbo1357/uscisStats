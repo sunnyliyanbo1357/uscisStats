{
 "cells": [
  {
   "cell_type": "code",
   "execution_count": 1,
   "metadata": {
    "scrolled": false
   },
   "outputs": [
    {
     "data": {
      "text/plain": [
       "<Task pending name='Task-1' coro=<main() running at <ipython-input-1-a9979d4de2c1>:40>>"
      ]
     },
     "execution_count": 1,
     "metadata": {},
     "output_type": "execute_result"
    },
    {
     "name": "stdout",
     "output_type": "stream",
     "text": [
      "Running total 510 batches\n",
      " - processing batch No.0, the job has took 0.00 seconds.\n",
      " - Has found I-765: 0\n",
      "EAC2090108703 <div class=\"rows text-center\">\n",
      "EAC2090108703 <p>On August 15, 2020, we accepted the fingerprint fee for your Form I-539, Application To Extend/Change Nonimmigrant Status, Receipt Number EAC2090108703. Our Vermont Service Center location is working on your case. We mailed you a notice describing how we will process your case. Please follow the instructions in the notice. If you move, go to <a href=\"https://egov.uscis.gov/coa/displayCOAForm.do\" target=\"_blank\">www.uscis.gov/addresschange</a> to give us your new mailing address.</p>\n",
      "EAC2090108702 <div class=\"rows text-center\">\n",
      "EAC2090108702 <p>On August 15, 2020, we accepted the fingerprint fee for your Form I-539, Application To Extend/Change Nonimmigrant Status, Receipt Number EAC2090108702. Our Vermont Service Center location is working on your case. We mailed you a notice describing how we will process your case. Please follow the instructions in the notice. If you move, go to <a href=\"https://egov.uscis.gov/coa/displayCOAForm.do\" target=\"_blank\">www.uscis.gov/addresschange</a> to give us your new mailing address.</p>\n",
      "EAC2090108709 <div class=\"rows text-center\">\n",
      "EAC2090108709 <p>On August 15, 2020, we accepted the fingerprint fee for your Form I-539, Application To Extend/Change Nonimmigrant Status, Receipt Number EAC2090108709. Our Vermont Service Center location is working on your case. We mailed you a notice describing how we will process your case. Please follow the instructions in the notice. If you move, go to <a href=\"https://egov.uscis.gov/coa/displayCOAForm.do\" target=\"_blank\">www.uscis.gov/addresschange</a> to give us your new mailing address.</p>\n",
      "EAC2090108707 <div class=\"rows text-center\">\n",
      "EAC2090108707 <p>On August 15, 2020, we accepted the fingerprint fee for your Form I-539, Application To Extend/Change Nonimmigrant Status, Receipt Number EAC2090108707. Our Vermont Service Center location is working on your case. We mailed you a notice describing how we will process your case. Please follow the instructions in the notice. If you move, go to <a href=\"https://egov.uscis.gov/coa/displayCOAForm.do\" target=\"_blank\">www.uscis.gov/addresschange</a> to give us your new mailing address.</p>\n",
      "EAC2090108710 <div class=\"rows text-center\">\n",
      "EAC2090108710 <p>As of November 18, 2020, fingerprints relating to your Form I-539, Application To Extend/Change Nonimmigrant Status, Receipt Number EAC2090108710, have been applied to your case.  If you move, go to <a href=\"https://egov.uscis.gov/coa/displayCOAForm.do\" target=\"_blank\">www.uscis.gov/addresschange</a>  to give us your new mailing address.</p>\n",
      "EAC2090108700 <div class=\"rows text-center\">\n",
      "EAC2090108700 <p>On August 15, 2020, we accepted the fingerprint fee for your Form I-539, Application To Extend/Change Nonimmigrant Status, Receipt Number EAC2090108700. Our Vermont Service Center location is working on your case. We mailed you a notice describing how we will process your case. Please follow the instructions in the notice. If you move, go to <a href=\"https://egov.uscis.gov/coa/displayCOAForm.do\" target=\"_blank\">www.uscis.gov/addresschange</a> to give us your new mailing address.</p>\n",
      "EAC2090108701 <div class=\"rows text-center\">\n",
      "EAC2090108701 <p>As of September 27, 2020, fingerprints relating to your Form I-539, Application To Extend/Change Nonimmigrant Status, Receipt Number EAC2090108701, have been applied to your case.  If you move, go to <a href=\"https://egov.uscis.gov/coa/displayCOAForm.do\" target=\"_blank\">www.uscis.gov/addresschange</a>  to give us your new mailing address.</p>\n",
      "EAC2090108705 <div class=\"rows text-center\">\n",
      "EAC2090108705 <p>On August 15, 2020, we accepted the fingerprint fee for your Form I-539, Application To Extend/Change Nonimmigrant Status, Receipt Number EAC2090108705. Our Vermont Service Center location is working on your case. We mailed you a notice describing how we will process your case. Please follow the instructions in the notice. If you move, go to <a href=\"https://egov.uscis.gov/coa/displayCOAForm.do\" target=\"_blank\">www.uscis.gov/addresschange</a> to give us your new mailing address.</p>\n",
      "EAC2090108708 <div class=\"rows text-center\">\n",
      "EAC2090108708 <p>As of September 27, 2020, fingerprints relating to your Form I-539, Application To Extend/Change Nonimmigrant Status, Receipt Number EAC2090108708, have been applied to your case.  If you move, go to <a href=\"https://egov.uscis.gov/coa/displayCOAForm.do\" target=\"_blank\">www.uscis.gov/addresschange</a>  to give us your new mailing address.</p>\n",
      "EAC2090108706 <div class=\"rows text-center\">\n",
      "EAC2090108706 <p>As of September 10, 2020, fingerprints relating to your Form I-539, Application To Extend/Change Nonimmigrant Status, Receipt Number EAC2090108706, have been applied to your case.  If you move, go to <a href=\"https://egov.uscis.gov/coa/displayCOAForm.do\" target=\"_blank\">www.uscis.gov/addresschange</a>  to give us your new mailing address.</p>\n",
      "EAC2090108704 <div class=\"rows text-center\">\n",
      "EAC2090108704 <p>On August 15, 2020, we accepted the fingerprint fee for your Form I-539, Application To Extend/Change Nonimmigrant Status, Receipt Number EAC2090108704. Our Vermont Service Center location is working on your case. We mailed you a notice describing how we will process your case. Please follow the instructions in the notice. If you move, go to <a href=\"https://egov.uscis.gov/coa/displayCOAForm.do\" target=\"_blank\">www.uscis.gov/addresschange</a> to give us your new mailing address.</p>\n",
      "EAC2090108716 <div class=\"rows text-center\">\n",
      "EAC2090108716 <p>On August 15, 2020, we accepted the fingerprint fee for your Form I-539, Application To Extend/Change Nonimmigrant Status, Receipt Number EAC2090108716. Our Vermont Service Center location is working on your case. We mailed you a notice describing how we will process your case. Please follow the instructions in the notice. If you move, go to <a href=\"https://egov.uscis.gov/coa/displayCOAForm.do\" target=\"_blank\">www.uscis.gov/addresschange</a> to give us your new mailing address.</p>\n",
      "EAC2090108711 <div class=\"rows text-center\">\n",
      "EAC2090108711 <p>On August 15, 2020, we accepted the fingerprint fee for your Form I-539, Application To Extend/Change Nonimmigrant Status, Receipt Number EAC2090108711. Our Vermont Service Center location is working on your case. We mailed you a notice describing how we will process your case. Please follow the instructions in the notice. If you move, go to <a href=\"https://egov.uscis.gov/coa/displayCOAForm.do\" target=\"_blank\">www.uscis.gov/addresschange</a> to give us your new mailing address.</p>\n",
      "EAC2090108719 <div class=\"rows text-center\">\n",
      "EAC2090108719 <p>As of November 19, 2020, fingerprints relating to your Form I-539, Application To Extend/Change Nonimmigrant Status, Receipt Number EAC2090108719, have been applied to your case.  If you move, go to <a href=\"https://egov.uscis.gov/coa/displayCOAForm.do\" target=\"_blank\">www.uscis.gov/addresschange</a>  to give us your new mailing address.</p>\n",
      "EAC2090108717 <div class=\"rows text-center\">\n",
      "EAC2090108717 <p>On August 15, 2020, we accepted the fingerprint fee for your Form I-539, Application To Extend/Change Nonimmigrant Status, Receipt Number EAC2090108717. Our Vermont Service Center location is working on your case. We mailed you a notice describing how we will process your case. Please follow the instructions in the notice. If you move, go to <a href=\"https://egov.uscis.gov/coa/displayCOAForm.do\" target=\"_blank\">www.uscis.gov/addresschange</a> to give us your new mailing address.</p>\n",
      "EAC2090108715 <div class=\"rows text-center\">\n",
      "EAC2090108715 <p>On August 15, 2020, we accepted the fingerprint fee for your Form I-539, Application To Extend/Change Nonimmigrant Status, Receipt Number EAC2090108715. Our Vermont Service Center location is working on your case. We mailed you a notice describing how we will process your case. Please follow the instructions in the notice. If you move, go to <a href=\"https://egov.uscis.gov/coa/displayCOAForm.do\" target=\"_blank\">www.uscis.gov/addresschange</a> to give us your new mailing address.</p>\n",
      "EAC2090108718 <div class=\"rows text-center\">\n",
      "EAC2090108718 <p>On August 15, 2020, we accepted the fingerprint fee for your Form I-539, Application To Extend/Change Nonimmigrant Status, Receipt Number EAC2090108718. Our Vermont Service Center location is working on your case. We mailed you a notice describing how we will process your case. Please follow the instructions in the notice. If you move, go to <a href=\"https://egov.uscis.gov/coa/displayCOAForm.do\" target=\"_blank\">www.uscis.gov/addresschange</a> to give us your new mailing address.</p>\n",
      "EAC2090108721 <div class=\"rows text-center\">\n",
      "EAC2090108721 <p>On August 15, 2020, we accepted the fingerprint fee for your Form I-539, Application To Extend/Change Nonimmigrant Status, Receipt Number EAC2090108721. Our Vermont Service Center location is working on your case. We mailed you a notice describing how we will process your case. Please follow the instructions in the notice. If you move, go to <a href=\"https://egov.uscis.gov/coa/displayCOAForm.do\" target=\"_blank\">www.uscis.gov/addresschange</a> to give us your new mailing address.</p>\n",
      "EAC2090108720 <div class=\"rows text-center\">\n",
      "EAC2090108720 <p>As of September 10, 2020, fingerprints relating to your Form I-539, Application To Extend/Change Nonimmigrant Status, Receipt Number EAC2090108720, have been applied to your case.  If you move, go to <a href=\"https://egov.uscis.gov/coa/displayCOAForm.do\" target=\"_blank\">www.uscis.gov/addresschange</a>  to give us your new mailing address.</p>\n",
      "EAC2090108714 <div class=\"rows text-center\">\n",
      "EAC2090108714 <p>On August 10, 2020, we received your Form I-765, Application for Employment Authorization, Receipt Number EAC2090108714, and sent you the receipt notice that describes how we will process your case.  Please follow the instructions in the notice.  If you do not receive your receipt notice by September 9, 2020, contact the USCIS Contact Center at <a href=\"https://www.uscis.gov/contactcenter\" target=\"_blank\">www.uscis.gov/contactcenter</a>.  If you move, go to <a href=\"https://egov.uscis.gov/coa/displayCOAForm.do\" target=\"_blank\">www.uscis.gov/addresschange</a> to give us your new mailing address.</p>\n"
     ]
    }
   ],
   "source": [
    "import time\n",
    "import asyncio\n",
    "import concurrent.futures\n",
    "import requests\n",
    "import matplotlib.pyplot as plt\n",
    "\n",
    "RECEIPT_NUMBER_BASE = \"EAC2090\"\n",
    "RANGE_START = 108700\n",
    "RANGE_END = 114300\n",
    "CASE_TYPE = 'I-765'\n",
    "CONCURRENCY_LEVEL = 11\n",
    "\n",
    "\n",
    "def check_status(receipt_num):\n",
    "    #print(receipt_num)\n",
    "    pload = {\"appReceiptNum\": receipt_num, \"initCaseSearch\":\"CHECK STATUS\"}\n",
    "    r = requests.post('https://egov.uscis.gov/casestatus/mycasestatus.do', data=pload)\n",
    "    if (r.status_code != 200):\n",
    "        print(\"Error with {0}, code {1}\".format(receipt_num, r.status_code))\n",
    "        return None\n",
    "    \n",
    "    response = r.text.split(\"\\n\")\n",
    "    \n",
    "    if CASE_TYPE in response[735]:\n",
    "        return (receipt_num, response[721].strip())\n",
    "    else:\n",
    "        return None\n",
    "\n",
    "\n",
    "def save_plot(status_list):\n",
    "    x, y = zip(*status_list)\n",
    "    plt.scatter(x, y)\n",
    "    plt.show()\n",
    "    plt.savefig('UscisStats.png', bbox_inches='tight')\n",
    "\n",
    "status_list = []\n",
    "\n",
    "async def main():\n",
    "    num_digits = len(str(RANGE_END))\n",
    "\n",
    "    loop = asyncio.get_event_loop()\n",
    "    batches = int((RANGE_END - RANGE_START) / CONCURRENCY_LEVEL + 1)\n",
    "    print(\"Running total {} batches\".format(batches))\n",
    "    start = time.time()\n",
    "    for i in range(batches):\n",
    "        if i % 10 == 0:\n",
    "            seconds = time.time() - start\n",
    "            print(\" - processing batch No.{0}, the job has took {1:.2f} seconds.\".format(i, seconds))\n",
    "            print(\" - Has found I-765: {}\".format(len(status_list)))\n",
    "        batch_start = RANGE_START + CONCURRENCY_LEVEL * i\n",
    "        with concurrent.futures.ThreadPoolExecutor(max_workers=CONCURRENCY_LEVEL) as executor:\n",
    "            loop = asyncio.get_event_loop()\n",
    "            futures = [\n",
    "                loop.run_in_executor(\n",
    "                    executor,\n",
    "                    check_status,\n",
    "                    RECEIPT_NUMBER_BASE + str(batch_start+x).zfill(num_digits)\n",
    "                )\n",
    "                for x in range(CONCURRENCY_LEVEL)\n",
    "            ]\n",
    "            for t in await asyncio.gather(*futures):\n",
    "                if t is not None:\n",
    "                    status_list.append(t)\n",
    "            \n",
    "                    \n",
    "    print('{0} takes {1:.2f}% in the range.'.format(CASE_TYPE, 100*len(status_list)/(batches*CONCURRENCY_LEVEL)))\n",
    "\n",
    "    save_plot(status_list)\n",
    "\n",
    "\n",
    "loop = asyncio.get_event_loop()\n",
    "loop.create_task(main())"
   ]
  },
  {
   "cell_type": "code",
   "execution_count": 4,
   "metadata": {},
   "outputs": [
    {
     "data": {
      "text/plain": [
       "1480"
      ]
     },
     "execution_count": 4,
     "metadata": {},
     "output_type": "execute_result"
    }
   ],
   "source": [
    "len(status_list)"
   ]
  },
  {
   "cell_type": "code",
   "execution_count": 8,
   "metadata": {
    "scrolled": false
   },
   "outputs": [],
   "source": [
    "import json\n",
    "\n",
    "with open(\"today.json\", 'w') as outfile:\n",
    "    json.dump(status_list, outfile)"
   ]
  },
  {
   "cell_type": "code",
   "execution_count": null,
   "metadata": {},
   "outputs": [],
   "source": []
  }
 ],
 "metadata": {
  "kernelspec": {
   "display_name": "Python 3",
   "language": "python",
   "name": "python3"
  },
  "language_info": {
   "codemirror_mode": {
    "name": "ipython",
    "version": 3
   },
   "file_extension": ".py",
   "mimetype": "text/x-python",
   "name": "python",
   "nbconvert_exporter": "python",
   "pygments_lexer": "ipython3",
   "version": "3.8.5"
  }
 },
 "nbformat": 4,
 "nbformat_minor": 4
}
